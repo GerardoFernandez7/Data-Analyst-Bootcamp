{
 "cells": [
  {
   "cell_type": "markdown",
   "id": "7d54de8a-5a80-4a38-b2e5-ececd2f78b80",
   "metadata": {},
   "source": [
    "**BMI Calculator**"
   ]
  },
  {
   "cell_type": "code",
   "execution_count": null,
   "id": "f2627939-fce7-448e-ae6b-a347539558c3",
   "metadata": {},
   "outputs": [],
   "source": [
    "#BMI = weight (lb) * 703 ÷ height (inches) squared "
   ]
  },
  {
   "cell_type": "code",
   "execution_count": 15,
   "id": "41d9130c-6fcb-4f2b-96b9-c8f2a05d133c",
   "metadata": {},
   "outputs": [
    {
     "name": "stdin",
     "output_type": "stream",
     "text": [
      "Enter your name:  Gerardo\n",
      "Enter your weight in pounds:  150\n",
      "Enter your height in inches:  68\n"
     ]
    },
    {
     "name": "stdout",
     "output_type": "stream",
     "text": [
      "Your BMI is:  22\n"
     ]
    }
   ],
   "source": [
    "name = input(\"Enter your name: \")\n",
    "weight = int(input(\"Enter your weight in pounds: \"))\n",
    "height = int(input(\"Enter your height in inches: \"))\n",
    "BMI = int((weight * 703) / (height * height))\n",
    "print(\"Your BMI is: \", BMI)"
   ]
  },
  {
   "cell_type": "code",
   "execution_count": 17,
   "id": "13346b59-8ce7-4dae-820a-feec405a70a4",
   "metadata": {},
   "outputs": [
    {
     "name": "stdout",
     "output_type": "stream",
     "text": [
      "Gerardo is healthy!\n"
     ]
    }
   ],
   "source": [
    "if BMI > 0:\n",
    "    if BMI < 18.5:\n",
    "        print(name, \"is underweight.\")\n",
    "    elif BMI <= 24.9:\n",
    "        print(name, \"is healthy!\")\n",
    "    elif BMI <= 29.9:\n",
    "        print(name, \"is overweight.\")\n",
    "    elif BMI<=34.9:\n",
    "        print(name,\"is obese\")\n",
    "    elif (BMI <= 39.9):\n",
    "        print(name,\"is severely obese.\")\n",
    "    else:\n",
    "        print(name,\"is morbidly obese!\")\n",
    "else:\n",
    "    print(\"Enter valid input\")"
   ]
  },
  {
   "cell_type": "code",
   "execution_count": null,
   "id": "edf558b8-8e7d-4cfa-9e13-17ebbd3a8689",
   "metadata": {},
   "outputs": [],
   "source": []
  }
 ],
 "metadata": {
  "kernelspec": {
   "display_name": "Python 3 (ipykernel)",
   "language": "python",
   "name": "python3"
  },
  "language_info": {
   "codemirror_mode": {
    "name": "ipython",
    "version": 3
   },
   "file_extension": ".py",
   "mimetype": "text/x-python",
   "name": "python",
   "nbconvert_exporter": "python",
   "pygments_lexer": "ipython3",
   "version": "3.11.7"
  }
 },
 "nbformat": 4,
 "nbformat_minor": 5
}
