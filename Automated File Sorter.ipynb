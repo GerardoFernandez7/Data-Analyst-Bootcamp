{
 "cells": [
  {
   "cell_type": "markdown",
   "id": "1204739a-5339-470f-bd3f-90007d6f011e",
   "metadata": {},
   "source": [
    "**Automated File Sorter in File Explorer**"
   ]
  },
  {
   "cell_type": "code",
   "execution_count": 73,
   "id": "52e600bc-4ba7-4b64-93ac-16d4b92b2ea3",
   "metadata": {},
   "outputs": [],
   "source": [
    "# This script will automatically create folders for each file by the type of file "
   ]
  },
  {
   "cell_type": "code",
   "execution_count": 75,
   "id": "d6974058-6978-44b5-b224-bbd3722f97ca",
   "metadata": {},
   "outputs": [],
   "source": [
    "import os, shutil"
   ]
  },
  {
   "cell_type": "code",
   "execution_count": 77,
   "id": "d01e4cca-80fd-4e69-aa12-9d4944ad3686",
   "metadata": {},
   "outputs": [],
   "source": [
    "path = r\"C:\\Users\\gerar\\Downloads\" #r = raw"
   ]
  },
  {
   "cell_type": "code",
   "execution_count": 79,
   "id": "463190c7-8a85-4c5a-bc77-45fd8f44ad9e",
   "metadata": {},
   "outputs": [],
   "source": [
    "file_name = os.listdir(path)"
   ]
  },
  {
   "cell_type": "code",
   "execution_count": 81,
   "id": "58141341-42c0-47f9-845a-e94134adb20a",
   "metadata": {},
   "outputs": [
    {
     "name": "stdout",
     "output_type": "stream",
     "text": [
      "C:\\Users\\gerar\\Downloads\\Photos\n",
      "C:\\Users\\gerar\\Downloads\\Docs\n",
      "C:\\Users\\gerar\\Downloads\\Excel\n"
     ]
    }
   ],
   "source": [
    "folder_names = ['\\Photos', '\\Docs', '\\Excel']\n",
    "\n",
    "for loop in range(0,3):\n",
    "    if not os.path.exists(path + folder_names[loop]):\n",
    "        print(path + folder_names[loop])\n",
    "        os.makedirs(path + folder_names[loop])"
   ]
  },
  {
   "cell_type": "code",
   "execution_count": 83,
   "id": "7953ddde-11dd-4287-83a9-d9a437b353c9",
   "metadata": {},
   "outputs": [
    {
     "name": "stdout",
     "output_type": "stream",
     "text": [
      "The file Ale was not moved\n",
      "The file College-resume-and-cover-letter-4.pdf was not moved\n",
      "The file Credenciales base de datos.txt was not moved\n",
      "The file CV EN.pdf was not moved\n",
      "The file CV ES.pdf was not moved\n",
      "The file desktop.ini was not moved\n",
      "The file Formulario.pdf was not moved\n",
      "The file Gerardo Fernandez CV en.pdf was not moved\n",
      "The file Gerardo Fernandez CV esp.pdf was not moved\n",
      "The file Guia para Elaboración de Informes 2023.pdf was not moved\n",
      "The file Horario Ale.pdf was not moved\n",
      "The file Infografía Física 1.pdf was not moved\n",
      "The file Plantilla de Rúbrica .xlsx was not moved\n",
      "The file Profile pic.jpg was not moved\n",
      "The file Tableau was not moved\n"
     ]
    }
   ],
   "source": [
    "for file in file_name:\n",
    "    if \".xlsx\" in file and not os.path.exists(path + \"\\\\Excel\\\\\" + file):\n",
    "        shutil.move(path + \"\\\\\" + file, path + \"\\\\Excel\\\\\" + file)\n",
    "    elif \".pdf\" in file and not os.path.exists(path + \"\\\\Docs\\\\\" + file):\n",
    "        shutil.move(path + \"\\\\\" + file, path + \"\\\\Docs\\\\\" + file)\n",
    "    if \".png\" in file and not os.path.exists(path + \"\\\\Photos\\\\\" + file):\n",
    "        shutil.move(path + \"\\\\\" + file, path + \"\\\\Photos\\\\\" + file)\n",
    "    else:\n",
    "        print(\"The file \" + file + \" was not moved\")"
   ]
  },
  {
   "cell_type": "code",
   "execution_count": null,
   "id": "bafb5dd2-6624-422d-a72b-9a5b025fe409",
   "metadata": {},
   "outputs": [],
   "source": []
  }
 ],
 "metadata": {
  "kernelspec": {
   "display_name": "Python 3 (ipykernel)",
   "language": "python",
   "name": "python3"
  },
  "language_info": {
   "codemirror_mode": {
    "name": "ipython",
    "version": 3
   },
   "file_extension": ".py",
   "mimetype": "text/x-python",
   "name": "python",
   "nbconvert_exporter": "python",
   "pygments_lexer": "ipython3",
   "version": "3.11.7"
  }
 },
 "nbformat": 4,
 "nbformat_minor": 5
}
